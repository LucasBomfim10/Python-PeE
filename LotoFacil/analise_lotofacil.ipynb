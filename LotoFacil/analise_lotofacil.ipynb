{
 "cells": [
  {
   "cell_type": "markdown",
   "metadata": {},
   "source": [
    "# Análise Estatística de Resultados da Lotofácil\n",
    "\n",
    "Este projeto busca verificar a justiça dos sorteios da Lotofácil utilizando métodos estatísticos e análise exploratória de dados. \n",
    "O objetivo é avaliar se os números sorteados seguem uma distribuição uniforme e praticar habilidades de análise de dados para projetos reais.\n",
    "\n",
    "### Objetivos principais:\n",
    "- Carregar e limpar os dados.\n",
    "- Explorar a frequência dos números sorteados.\n",
    "- Visualizar os dados com gráficos.\n",
    "- Aplicar o teste Qui-Quadrado para verificar uniformidade.\n",
    "- Comparar os sorteios reais com simulações.\n"
   ]
  },
  {
   "cell_type": "code",
   "execution_count": 2,
   "metadata": {},
   "outputs": [],
   "source": [
    "# Importando as bibliotecas necessárias\n",
    "import pandas as pd\n",
    "import numpy as np\n",
    "import matplotlib.pyplot as plt\n",
    "import seaborn as sns\n",
    "from scipy.stats import chisquare"
   ]
  },
  {
   "cell_type": "markdown",
   "metadata": {},
   "source": [
    "## 1. Carregando os dados"
   ]
  },
  {
   "cell_type": "code",
   "execution_count": 3,
   "metadata": {},
   "outputs": [
    {
     "data": {
      "text/html": [
       "<div>\n",
       "<style scoped>\n",
       "    .dataframe tbody tr th:only-of-type {\n",
       "        vertical-align: middle;\n",
       "    }\n",
       "\n",
       "    .dataframe tbody tr th {\n",
       "        vertical-align: top;\n",
       "    }\n",
       "\n",
       "    .dataframe thead th {\n",
       "        text-align: right;\n",
       "    }\n",
       "</style>\n",
       "<table border=\"1\" class=\"dataframe\">\n",
       "  <thead>\n",
       "    <tr style=\"text-align: right;\">\n",
       "      <th></th>\n",
       "      <th>Concurso</th>\n",
       "      <th>Data Sorteio</th>\n",
       "      <th>Bola1</th>\n",
       "      <th>Bola2</th>\n",
       "      <th>Bola3</th>\n",
       "      <th>Bola4</th>\n",
       "      <th>Bola5</th>\n",
       "      <th>Bola6</th>\n",
       "      <th>Bola7</th>\n",
       "      <th>Bola8</th>\n",
       "      <th>...</th>\n",
       "      <th>Rateio 13 acertos</th>\n",
       "      <th>Ganhadores 12 acertos</th>\n",
       "      <th>Rateio 12 acertos</th>\n",
       "      <th>Ganhadores 11 acertos</th>\n",
       "      <th>Rateio 11 acertos</th>\n",
       "      <th>Acumulado 15 acertos</th>\n",
       "      <th>Arrecadacao Total</th>\n",
       "      <th>Estimativa Prêmio</th>\n",
       "      <th>Acumulado sorteio especial Lotofácil da Independência</th>\n",
       "      <th>Observação</th>\n",
       "    </tr>\n",
       "  </thead>\n",
       "  <tbody>\n",
       "    <tr>\n",
       "      <th>0</th>\n",
       "      <td>1</td>\n",
       "      <td>29/09/2003</td>\n",
       "      <td>2</td>\n",
       "      <td>3</td>\n",
       "      <td>5</td>\n",
       "      <td>6</td>\n",
       "      <td>9</td>\n",
       "      <td>10</td>\n",
       "      <td>11</td>\n",
       "      <td>13</td>\n",
       "      <td>...</td>\n",
       "      <td>R$10,00</td>\n",
       "      <td>48807</td>\n",
       "      <td>R$4,00</td>\n",
       "      <td>257593</td>\n",
       "      <td>R$2,00</td>\n",
       "      <td>R$0,00</td>\n",
       "      <td>R$0,00</td>\n",
       "      <td>R$0,00</td>\n",
       "      <td>R$0,00</td>\n",
       "      <td>Estimativa de prêmio (15 ACERTOS) próximo conc...</td>\n",
       "    </tr>\n",
       "    <tr>\n",
       "      <th>1</th>\n",
       "      <td>2</td>\n",
       "      <td>06/10/2003</td>\n",
       "      <td>1</td>\n",
       "      <td>4</td>\n",
       "      <td>5</td>\n",
       "      <td>6</td>\n",
       "      <td>7</td>\n",
       "      <td>9</td>\n",
       "      <td>11</td>\n",
       "      <td>12</td>\n",
       "      <td>...</td>\n",
       "      <td>R$10,00</td>\n",
       "      <td>81252</td>\n",
       "      <td>R$4,00</td>\n",
       "      <td>478188</td>\n",
       "      <td>R$2,00</td>\n",
       "      <td>R$0,00</td>\n",
       "      <td>R$0,00</td>\n",
       "      <td>R$0,00</td>\n",
       "      <td>R$0,00</td>\n",
       "      <td>ESTIMATIVA DE PRÊMIO PARA O PRÓXIMO CONCURSO (...</td>\n",
       "    </tr>\n",
       "    <tr>\n",
       "      <th>2</th>\n",
       "      <td>3</td>\n",
       "      <td>13/10/2003</td>\n",
       "      <td>1</td>\n",
       "      <td>4</td>\n",
       "      <td>6</td>\n",
       "      <td>7</td>\n",
       "      <td>8</td>\n",
       "      <td>9</td>\n",
       "      <td>10</td>\n",
       "      <td>11</td>\n",
       "      <td>...</td>\n",
       "      <td>R$10,00</td>\n",
       "      <td>96244</td>\n",
       "      <td>R$4,00</td>\n",
       "      <td>608211</td>\n",
       "      <td>R$2,00</td>\n",
       "      <td>R$0,00</td>\n",
       "      <td>R$0,00</td>\n",
       "      <td>R$0,00</td>\n",
       "      <td>R$0,00</td>\n",
       "      <td>Estimativa de prêmio (15 ACERTOS) próximo conc...</td>\n",
       "    </tr>\n",
       "    <tr>\n",
       "      <th>3</th>\n",
       "      <td>4</td>\n",
       "      <td>20/10/2003</td>\n",
       "      <td>1</td>\n",
       "      <td>2</td>\n",
       "      <td>4</td>\n",
       "      <td>5</td>\n",
       "      <td>8</td>\n",
       "      <td>10</td>\n",
       "      <td>12</td>\n",
       "      <td>13</td>\n",
       "      <td>...</td>\n",
       "      <td>R$10,00</td>\n",
       "      <td>123912</td>\n",
       "      <td>R$4,00</td>\n",
       "      <td>706657</td>\n",
       "      <td>R$2,00</td>\n",
       "      <td>R$0,00</td>\n",
       "      <td>R$0,00</td>\n",
       "      <td>R$0,00</td>\n",
       "      <td>R$0,00</td>\n",
       "      <td>Estimativa de prêmio (15 ACERTOS) próximo conc...</td>\n",
       "    </tr>\n",
       "    <tr>\n",
       "      <th>4</th>\n",
       "      <td>5</td>\n",
       "      <td>27/10/2003</td>\n",
       "      <td>1</td>\n",
       "      <td>2</td>\n",
       "      <td>4</td>\n",
       "      <td>8</td>\n",
       "      <td>9</td>\n",
       "      <td>11</td>\n",
       "      <td>12</td>\n",
       "      <td>13</td>\n",
       "      <td>...</td>\n",
       "      <td>R$10,00</td>\n",
       "      <td>195636</td>\n",
       "      <td>R$4,00</td>\n",
       "      <td>860992</td>\n",
       "      <td>R$2,00</td>\n",
       "      <td>R$0,00</td>\n",
       "      <td>R$0,00</td>\n",
       "      <td>R$0,00</td>\n",
       "      <td>R$0,00</td>\n",
       "      <td>Estimativa de prêmio para o próximo concurso (...</td>\n",
       "    </tr>\n",
       "  </tbody>\n",
       "</table>\n",
       "<p>5 rows × 33 columns</p>\n",
       "</div>"
      ],
      "text/plain": [
       "   Concurso Data Sorteio  Bola1  Bola2  Bola3  Bola4  Bola5  Bola6  Bola7  \\\n",
       "0         1   29/09/2003      2      3      5      6      9     10     11   \n",
       "1         2   06/10/2003      1      4      5      6      7      9     11   \n",
       "2         3   13/10/2003      1      4      6      7      8      9     10   \n",
       "3         4   20/10/2003      1      2      4      5      8     10     12   \n",
       "4         5   27/10/2003      1      2      4      8      9     11     12   \n",
       "\n",
       "   Bola8  ...  Rateio 13 acertos  Ganhadores 12 acertos  Rateio 12 acertos  \\\n",
       "0     13  ...            R$10,00                  48807             R$4,00   \n",
       "1     12  ...            R$10,00                  81252             R$4,00   \n",
       "2     11  ...            R$10,00                  96244             R$4,00   \n",
       "3     13  ...            R$10,00                 123912             R$4,00   \n",
       "4     13  ...            R$10,00                 195636             R$4,00   \n",
       "\n",
       "   Ganhadores 11 acertos  Rateio 11 acertos  Acumulado 15 acertos  \\\n",
       "0                 257593             R$2,00                R$0,00   \n",
       "1                 478188             R$2,00                R$0,00   \n",
       "2                 608211             R$2,00                R$0,00   \n",
       "3                 706657             R$2,00                R$0,00   \n",
       "4                 860992             R$2,00                R$0,00   \n",
       "\n",
       "   Arrecadacao Total  Estimativa Prêmio  \\\n",
       "0             R$0,00             R$0,00   \n",
       "1             R$0,00             R$0,00   \n",
       "2             R$0,00             R$0,00   \n",
       "3             R$0,00             R$0,00   \n",
       "4             R$0,00             R$0,00   \n",
       "\n",
       "  Acumulado sorteio especial Lotofácil da Independência  \\\n",
       "0                                             R$0,00      \n",
       "1                                             R$0,00      \n",
       "2                                             R$0,00      \n",
       "3                                             R$0,00      \n",
       "4                                             R$0,00      \n",
       "\n",
       "                                          Observação  \n",
       "0  Estimativa de prêmio (15 ACERTOS) próximo conc...  \n",
       "1  ESTIMATIVA DE PRÊMIO PARA O PRÓXIMO CONCURSO (...  \n",
       "2  Estimativa de prêmio (15 ACERTOS) próximo conc...  \n",
       "3  Estimativa de prêmio (15 ACERTOS) próximo conc...  \n",
       "4  Estimativa de prêmio para o próximo concurso (...  \n",
       "\n",
       "[5 rows x 33 columns]"
      ]
     },
     "execution_count": 3,
     "metadata": {},
     "output_type": "execute_result"
    }
   ],
   "source": [
    "# Carregando os dados do arquivo Excel\n",
    "dados = pd.read_excel('Lotofacil.xlsx')\n",
    "dados.head()"
   ]
  },
  {
   "cell_type": "markdown",
   "metadata": {},
   "source": [
    "## 2. Selecionando as colunas relevantes"
   ]
  },
  {
   "cell_type": "code",
   "execution_count": 4,
   "metadata": {},
   "outputs": [
    {
     "name": "stdout",
     "output_type": "stream",
     "text": [
      "<class 'pandas.core.frame.DataFrame'>\n",
      "RangeIndex: 3280 entries, 0 to 3279\n",
      "Data columns (total 17 columns):\n",
      " #   Column        Non-Null Count  Dtype         \n",
      "---  ------        --------------  -----         \n",
      " 0   Concurso      3280 non-null   int64         \n",
      " 1   Data Sorteio  3280 non-null   datetime64[ns]\n",
      " 2   Bola1         3280 non-null   int64         \n",
      " 3   Bola2         3280 non-null   int64         \n",
      " 4   Bola3         3280 non-null   int64         \n",
      " 5   Bola4         3280 non-null   int64         \n",
      " 6   Bola5         3280 non-null   int64         \n",
      " 7   Bola6         3280 non-null   int64         \n",
      " 8   Bola7         3280 non-null   int64         \n",
      " 9   Bola8         3280 non-null   int64         \n",
      " 10  Bola9         3280 non-null   int64         \n",
      " 11  Bola10        3280 non-null   int64         \n",
      " 12  Bola11        3280 non-null   int64         \n",
      " 13  Bola12        3280 non-null   int64         \n",
      " 14  Bola13        3280 non-null   int64         \n",
      " 15  Bola14        3280 non-null   int64         \n",
      " 16  Bola15        3280 non-null   int64         \n",
      "dtypes: datetime64[ns](1), int64(16)\n",
      "memory usage: 435.8 KB\n"
     ]
    }
   ],
   "source": [
    "# Seleção de colunas importantes para a análise\n",
    "colunas_relevantes = ['Concurso', 'Data Sorteio', 'Bola1', 'Bola2', 'Bola3', 'Bola4', 'Bola5', \n",
    "                     'Bola6', 'Bola7', 'Bola8', 'Bola9', 'Bola10', 'Bola11', 'Bola12', 'Bola13', 'Bola14', 'Bola15']\n",
    "dados = dados[colunas_relevantes]\n",
    "\n",
    "# Convertendo a coluna de datas para o formato datetime\n",
    "dados['Data Sorteio'] = pd.to_datetime(dados['Data Sorteio'], format='%d/%m/%Y')\n",
    "dados.info()"
   ]
  },
  {
   "cell_type": "markdown",
   "metadata": {},
   "source": [
    "## 3. Explorando a frequência dos números sorteados"
   ]
  },
  {
   "cell_type": "code",
   "execution_count": 5,
   "metadata": {},
   "outputs": [
    {
     "data": {
      "text/plain": [
       "1     1975\n",
       "2     1966\n",
       "3     1981\n",
       "4     1982\n",
       "5     1977\n",
       "6     1916\n",
       "7     1932\n",
       "8     1908\n",
       "9     1963\n",
       "10    2055\n",
       "11    2007\n",
       "12    1979\n",
       "13    1993\n",
       "14    1988\n",
       "15    1945\n",
       "16    1878\n",
       "17    1928\n",
       "18    1962\n",
       "19    1954\n",
       "20    2063\n",
       "21    1946\n",
       "22    1958\n",
       "23    1923\n",
       "24    1988\n",
       "25    2033\n",
       "Name: count, dtype: int64"
      ]
     },
     "execution_count": 5,
     "metadata": {},
     "output_type": "execute_result"
    }
   ],
   "source": [
    "# Calculando a frequência de cada número sorteado\n",
    "bolas = dados.iloc[:, 2:]  # Todas as colunas de números\n",
    "todos_numeros = bolas.values.flatten()\n",
    "\n",
    "frequencias = pd.Series(todos_numeros).value_counts().sort_index()\n",
    "frequencias"
   ]
  },
  {
   "cell_type": "markdown",
   "metadata": {},
   "source": [
    "## 4. Visualizando as frequências dos números sorteados"
   ]
  },
  {
   "cell_type": "code",
   "execution_count": 6,
   "metadata": {},
   "outputs": [
    {
     "name": "stderr",
     "output_type": "stream",
     "text": [
      "C:\\Users\\Lucas\\AppData\\Local\\Temp\\ipykernel_16332\\337451161.py:3: FutureWarning: \n",
      "\n",
      "Passing `palette` without assigning `hue` is deprecated and will be removed in v0.14.0. Assign the `x` variable to `hue` and set `legend=False` for the same effect.\n",
      "\n",
      "  sns.barplot(x=frequencias.index, y=frequencias.values, palette='viridis')\n"
     ]
    },
    {
     "data": {
      "image/png": "[encoded data removed]",
      "text/plain": [
       "<Figure size 1000x600 with 1 Axes>"
      ]
     },
     "metadata": {},
     "output_type": "display_data"
    }
   ],
   "source": [
    "# Criando um gráfico de barras para as frequências\n",
    "plt.figure(figsize=(10, 6))\n",
    "sns.barplot(x=frequencias.index, y=frequencias.values, palette='viridis')\n",
    "plt.title('Frequência dos Números Sorteados', fontsize=16)\n",
    "plt.xlabel('Números', fontsize=12)\n",
    "plt.ylabel('Frequência', fontsize=12)\n",
    "plt.xticks(rotation=90)\n",
    "plt.show()"
   ]
  },
  {
   "cell_type": "markdown",
   "metadata": {},
   "source": [
    "## 5. Teste de uniformidade com o Qui-Quadrado"
   ]
  },
  {
   "cell_type": "code",
   "execution_count": 21,
   "metadata": {},
   "outputs": [
    {
     "name": "stdout",
     "output_type": "stream",
     "text": [
      "Valor do Qui-Quadrado: 22.90650406504065\n",
      "P-Valor: 0.5253230004438803\n",
      "Os sorteios parecem ser uniformes (não rejeitamos H0).\n"
     ]
    }
   ],
   "source": [
    "# Definindo a frequência esperada para números uniformemente sorteados\n",
    "frequencia_esperada = [sum(frequencias) / len(frequencias)] * len(frequencias)\n",
    "\n",
    "# Aplicando o teste Qui-Quadrado\n",
    "chi2, p_valor = chisquare(frequencias.values, frequencia_esperada)\n",
    "\n",
    "print(f\"Valor do Qui-Quadrado: {chi2}\")\n",
    "print(f\"P-Valor: {p_valor}\")\n",
    "\n",
    "if p_valor < 0.05:\n",
    "    print(\"Os sorteios não parecem ser uniformes (rejeitamos H0).\")\n",
    "else:\n",
    "    print(\"Os sorteios parecem ser uniformes (não rejeitamos H0).\")"
   ]
  },
  {
   "cell_type": "markdown",
   "metadata": {},
   "source": [
    "## 6. Comparando os sorteios reais com simulações"
   ]
  },
  {
   "cell_type": "code",
   "execution_count": 18,
   "metadata": {},
   "outputs": [
    {
     "data": {
      "image/png": "[encoded data removed]",
      "text/plain": [
       "<Figure size 1200x600 with 1 Axes>"
      ]
     },
     "metadata": {},
     "output_type": "display_data"
    }
   ],
   "source": [
    "# Simulando 3281 sorteios com probabilidades iguais\n",
    "sorteios_simulados = np.random.choice(range(1, 26), size=(3281, 15), replace=True)\n",
    "\n",
    "# Frequências dos números simulados\n",
    "frequencias_simuladas = pd.Series(sorteios_simulados.flatten()).value_counts().sort_index()\n",
    "\n",
    "# Comparando os resultados reais e simulados\n",
    "plt.figure(figsize=(12, 6))\n",
    "plt.bar(frequencias.index, frequencias.values, label='Frequências Observadas', alpha=0.7)\n",
    "plt.bar(frequencias_simuladas.index, frequencias_simuladas.values, label='Frequências Simuladas', alpha=0.7)\n",
    "plt.title('Comparação entre Sorteios Reais e Simulados', fontsize=16)\n",
    "plt.xlabel('Números', fontsize=14,)\n",
    "plt.ylabel('Frequência', fontsize=14)\n",
    "\n",
    "plt.legend(loc='right', bbox_to_anchor=(0.5, -0.15), ncol=2, fontsize=12)\n",
    "plt.tight_layout()\n",
    "plt.show()\n"
   ]
  },
  {
   "cell_type": "markdown",
   "metadata": {},
   "source": [
    "## 7. Conclusão\n",
    "\n",
    "- O teste Qui-Quadrado indicou que os sorteios **seguem uma distribuição uniforme** (não rejeitamos a hipótese nula).\n",
    "- As simulações reforçam que as frequências reais estão próximas do esperado para um sorteio justo.\n",
    "\n",
    "Este projeto foi desenvolvido com o objetivo de aprender e reforçar habilidades em técnicas de análise estatística e visualização de dados, aplicando-as em um contexto prático."
   ]
  }
 ],
 "metadata": {
  "kernelspec": {
   "display_name": "Python 3",
   "language": "python",
   "name": "python3"
  },
  "language_info": {
   "codemirror_mode": {
    "name": "ipython",
    "version": 3
   },
   "file_extension": ".py",
   "mimetype": "text/x-python",
   "name": "python",
   "nbconvert_exporter": "python",
   "pygments_lexer": "ipython3",
   "version": "3.11.4"
  }
 },
 "nbformat": 4,
 "nbformat_minor": 4
}
